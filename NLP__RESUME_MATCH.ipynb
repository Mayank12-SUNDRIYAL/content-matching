{
  "nbformat": 4,
  "nbformat_minor": 0,
  "metadata": {
    "colab": {
      "provenance": [],
      "collapsed_sections": []
    },
    "kernelspec": {
      "name": "python3",
      "display_name": "Python 3"
    },
    "language_info": {
      "name": "python"
    }
  },
  "cells": [
    {
      "cell_type": "code",
      "source": [
        "!pip install docx2txt #importing the docx2txt module\n",
        "import docx2txt"
      ],
      "metadata": {
        "colab": {
          "base_uri": "https://localhost:8080/"
        },
        "id": "kla538oKxTqY",
        "outputId": "37f2fbf2-5b43-498b-8be9-1edeb344c4fd"
      },
      "execution_count": 30,
      "outputs": [
        {
          "output_type": "stream",
          "name": "stdout",
          "text": [
            "Looking in indexes: https://pypi.org/simple, https://us-python.pkg.dev/colab-wheels/public/simple/\n",
            "Requirement already satisfied: docx2txt in /usr/local/lib/python3.7/dist-packages (0.8)\n"
          ]
        }
      ]
    },
    {
      "cell_type": "code",
      "source": [
        "from google.colab import drive\n",
        "drive.mount('/content/drive')"
      ],
      "metadata": {
        "colab": {
          "base_uri": "https://localhost:8080/"
        },
        "id": "hwOCiN2GpIum",
        "outputId": "6e971e0b-da3e-4926-9fbe-5072a07ac6d3"
      },
      "execution_count": 31,
      "outputs": [
        {
          "output_type": "stream",
          "name": "stdout",
          "text": [
            "Drive already mounted at /content/drive; to attempt to forcibly remount, call drive.mount(\"/content/drive\", force_remount=True).\n"
          ]
        }
      ]
    },
    {
      "cell_type": "code",
      "source": [
        "job_description=docx2txt.process('/content/drive/MyDrive/BAPM Huskies/Job description.docx')  #description of the job after converting to docx\n",
        "resume_one=docx2txt.process('/content/drive/MyDrive/BAPM Huskies/Resume.docx')          #description of the resume after converting to docs"
      ],
      "metadata": {
        "id": "xZ6acBDdxekt"
      },
      "execution_count": 32,
      "outputs": []
    },
    {
      "cell_type": "code",
      "source": [
        "content=[job_description,resume_one]   #list of matching documents"
      ],
      "metadata": {
        "id": "7PMB-0fny96X"
      },
      "execution_count": 33,
      "outputs": []
    },
    {
      "cell_type": "code",
      "source": [
        "from sklearn.feature_extraction.text import CountVectorizer\n",
        "cv=CountVectorizer()\n",
        "matrix=cv.fit_transform(content)"
      ],
      "metadata": {
        "id": "lk6njSNbzQqW"
      },
      "execution_count": 34,
      "outputs": []
    },
    {
      "cell_type": "code",
      "source": [
        "from sklearn.metrics.pairwise import cosine_similarity\n",
        "similarity_matrix=cosine_similarity(matrix)\n"
      ],
      "metadata": {
        "id": "jAiGMTO9zsOs"
      },
      "execution_count": 35,
      "outputs": []
    },
    {
      "cell_type": "code",
      "source": [
        "print(similarity_matrix)"
      ],
      "metadata": {
        "id": "2vrYia740A1d",
        "colab": {
          "base_uri": "https://localhost:8080/"
        },
        "outputId": "fcac219e-1cfa-416e-cc09-dc50bed3d64b"
      },
      "execution_count": 36,
      "outputs": [
        {
          "output_type": "stream",
          "name": "stdout",
          "text": [
            "[[1.         0.86682339]\n",
            " [0.86682339 1.        ]]\n"
          ]
        }
      ]
    },
    {
      "cell_type": "code",
      "source": [
        "print(\"Resume matches by \", str(similarity_matrix[1][0]*100),'%')"
      ],
      "metadata": {
        "id": "lkmzI4l90Hxw",
        "colab": {
          "base_uri": "https://localhost:8080/"
        },
        "outputId": "46a49dc4-823e-48b5-ee04-1285b5563410"
      },
      "execution_count": 37,
      "outputs": [
        {
          "output_type": "stream",
          "name": "stdout",
          "text": [
            "Resume matches by  86.68233920563101 %\n"
          ]
        }
      ]
    }
  ]
}